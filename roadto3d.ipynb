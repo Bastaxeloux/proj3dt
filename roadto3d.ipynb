{
 "cells": [
  {
   "cell_type": "markdown",
   "metadata": {},
   "source": [
    "## Notebook nettoyé de notre procédure de segmentation."
   ]
  },
  {
   "cell_type": "markdown",
   "metadata": {},
   "source": [
    "#### Mise en Place\n",
    "On commence par importer les bibliothèques nécessaires. On s'appuyera sur torchio, une blibli dvlp pour l'imagerie médicale et nours permettant de visualiser des fichiers `.nii`"
   ]
  },
  {
   "cell_type": "code",
   "execution_count": 1,
   "metadata": {},
   "outputs": [],
   "source": [
    "import torch\n",
    "import torchio as tio\n",
    "\n",
    "import numpy as np\n",
    "import matplotlib.pyplot as plt\n",
    "from scipy import ndimage\n",
    "from skimage import filters, segmentation, morphology, measure, transform\n",
    "\n",
    "from skimage import feature\n",
    "import cv2\n",
    "import scipy.signal as signal\n",
    "\n",
    "from ipywidgets import interact\n",
    "import ipywidgets as widgets"
   ]
  },
  {
   "cell_type": "code",
   "execution_count": 2,
   "metadata": {},
   "outputs": [],
   "source": [
    "def load_patient(num):\n",
    "    with open(f'database/training/patient{num:03}/info.cfg') as f:\n",
    "        info = [line.replace(\"\\n\", \"\").replace(\":\", \"\").split(\" \") for line in f]\n",
    "        for i in range(len(info)):\n",
    "            if info[i][1].isnumeric():\n",
    "                info[i][1] = int(info[i][1])\n",
    "\n",
    "    patient = tio.Subject(\n",
    "        img=tio.ScalarImage(f'database/training/patient{num:03}/patient{num:03}_4d.nii.gz'),\n",
    "        gt=tio.LabelMap(f'database/training/patient{num:03}/patient{num:03}_frame{dict(info)[\"ED\"]:02}_gt.nii.gz'),\n",
    "        info = dict(info)\n",
    "    )\n",
    "    return patient"
   ]
  },
  {
   "cell_type": "code",
   "execution_count": 3,
   "metadata": {},
   "outputs": [],
   "source": [
    "def tf_mask2(image4d, Tps, Slice, heartrate=2):\n",
    "    fft_img = torch.fft.fft(image4d, axis=0)\n",
    "    filtred = fft_img\n",
    "    # interpolation frequance cardiaque\n",
    "    heartrate_i = int(heartrate)\n",
    "    heartrate_f = heartrate - heartrate_i\n",
    "    filtred[:heartrate_i, :, :, :] = 0.0\n",
    "    filtred[heartrate_i+1:, :, :, :] = 0.0\n",
    "    filtred[heartrate_i] *= (1-heartrate_f)\n",
    "    filtred[heartrate_i+1] *= heartrate_f\n",
    "\n",
    "    timg2 = torch.abs(torch.fft.ifft(filtred, axis=0))\n",
    "\n",
    "    mask = np.array(timg2[Tps, :, :, Slice])\n",
    "    mask = np.uint8(2*mask/np.max(mask)*255)\n",
    "    kernel = cv2.getStructuringElement(cv2.MORPH_ELLIPSE,(75,75))\n",
    "\n",
    "    #mask = cv2.medianBlur(mask,3)\n",
    "    mask = cv2.dilate(mask, cv2.getStructuringElement(cv2.MORPH_ELLIPSE,(75,75)), 1)\n",
    "    mask = cv2.erode(mask, cv2.getStructuringElement(cv2.MORPH_ELLIPSE,(95,95)), 1, borderType=cv2.BORDER_CONSTANT, borderValue=0)\n",
    "    mask = cv2.blur(mask,(21, 21))\n",
    "\n",
    "    img_m = np.array(image4d[Tps, :, :, Slice], dtype=np.float64)\n",
    "    img_m = np.uint8(img_m/np.max(img_m)*np.float64(mask))\n",
    "    img_m = cv2.medianBlur(img_m,5)\n",
    "    return img_m, mask"
   ]
  },
  {
   "cell_type": "code",
   "execution_count": 4,
   "metadata": {},
   "outputs": [
    {
     "ename": "TypeError",
     "evalue": "tf_mask2() missing 2 required positional arguments: 'Tps' and 'Slice'",
     "output_type": "error",
     "traceback": [
      "\u001b[1;31m---------------------------------------------------------------------------\u001b[0m",
      "\u001b[1;31mTypeError\u001b[0m                                 Traceback (most recent call last)",
      "Cell \u001b[1;32mIn[4], line 5\u001b[0m\n\u001b[0;32m      3\u001b[0m t_img \u001b[38;5;241m=\u001b[39m patient\u001b[38;5;241m.\u001b[39mimg\u001b[38;5;241m.\u001b[39mdata\u001b[38;5;241m.\u001b[39mclone()\u001b[38;5;241m.\u001b[39mdetach()\n\u001b[0;32m      4\u001b[0m t_gt \u001b[38;5;241m=\u001b[39m patient\u001b[38;5;241m.\u001b[39mgt\u001b[38;5;241m.\u001b[39mdata\u001b[38;5;241m.\u001b[39mclone()\u001b[38;5;241m.\u001b[39mdetach()\n\u001b[1;32m----> 5\u001b[0m img_m, mask \u001b[38;5;241m=\u001b[39m \u001b[43mtf_mask2\u001b[49m\u001b[43m(\u001b[49m\u001b[43mt_img\u001b[49m\u001b[43m,\u001b[49m\u001b[43m \u001b[49m\u001b[43mheartrate\u001b[49m\u001b[38;5;241;43m=\u001b[39;49m\u001b[43mt_img\u001b[49m\u001b[38;5;241;43m.\u001b[39;49m\u001b[43mshape\u001b[49m\u001b[43m[\u001b[49m\u001b[38;5;241;43m0\u001b[39;49m\u001b[43m]\u001b[49m\u001b[43m \u001b[49m\u001b[38;5;241;43m/\u001b[39;49m\u001b[43m \u001b[49m\u001b[43m(\u001b[49m\u001b[43mpatient\u001b[49m\u001b[38;5;241;43m.\u001b[39;49m\u001b[43minfo\u001b[49m\u001b[43m[\u001b[49m\u001b[38;5;124;43m\"\u001b[39;49m\u001b[38;5;124;43mES\u001b[39;49m\u001b[38;5;124;43m\"\u001b[39;49m\u001b[43m]\u001b[49m\u001b[43m \u001b[49m\u001b[38;5;241;43m-\u001b[39;49m\u001b[43m \u001b[49m\u001b[43mpatient\u001b[49m\u001b[38;5;241;43m.\u001b[39;49m\u001b[43minfo\u001b[49m\u001b[43m[\u001b[49m\u001b[38;5;124;43m\"\u001b[39;49m\u001b[38;5;124;43mED\u001b[39;49m\u001b[38;5;124;43m\"\u001b[39;49m\u001b[43m]\u001b[49m\u001b[43m)\u001b[49m\u001b[43m)\u001b[49m\n\u001b[0;32m      8\u001b[0m Indice_temps, Indice_coupe \u001b[38;5;241m=\u001b[39m patient\u001b[38;5;241m.\u001b[39minfo[\u001b[38;5;124m\"\u001b[39m\u001b[38;5;124mED\u001b[39m\u001b[38;5;124m\"\u001b[39m], t_img\u001b[38;5;241m.\u001b[39mshape[\u001b[38;5;241m3\u001b[39m]\u001b[38;5;241m/\u001b[39m\u001b[38;5;241m/\u001b[39m\u001b[38;5;241m2\u001b[39m\n\u001b[0;32m      9\u001b[0m fig \u001b[38;5;241m=\u001b[39m plt\u001b[38;5;241m.\u001b[39mfigure(figsize\u001b[38;5;241m=\u001b[39m(\u001b[38;5;241m15\u001b[39m,\u001b[38;5;241m5\u001b[39m))\n",
      "\u001b[1;31mTypeError\u001b[0m: tf_mask2() missing 2 required positional arguments: 'Tps' and 'Slice'"
     ]
    }
   ],
   "source": [
    "Patient_étudié = 9\n",
    "patient = load_patient(Patient_étudié)\n",
    "t_img = patient.img.data.clone().detach()\n",
    "t_gt = patient.gt.data.clone().detach()\n",
    "img_m, mask = tf_mask2(t_img, heartrate=t_img.shape[0] / (patient.info[\"ES\"] - patient.info[\"ED\"]))\n",
    "\n",
    "\n",
    "Indice_temps, Indice_coupe = patient.info[\"ED\"], t_img.shape[3]//2\n",
    "fig = plt.figure(figsize=(15,5))\n",
    "fig.ticks = False\n",
    "plt.subplot(131)\n",
    "plt.imshow(t_img[Indice_temps, :, :, Indice_coupe], cmap='gray')\n",
    "plt.title(\"Image d'origine\")\n",
    "plt.subplot(132)\n",
    "plt.imshow(mask, cmap='gray')\n",
    "plt.title(\"Masque\")\n",
    "plt.subplot(133)\n",
    "plt.imshow(img_m, cmap='gray')\n",
    "plt.title(\"Image masquée\")\n",
    "plt.tight_layout()\n",
    "print(\"hr: \", t_img.shape[0] / (patient.info[\"ES\"] - patient.info[\"ED\"]))"
   ]
  }
 ],
 "metadata": {
  "kernelspec": {
   "display_name": "Python 3",
   "language": "python",
   "name": "python3"
  },
  "language_info": {
   "codemirror_mode": {
    "name": "ipython",
    "version": 3
   },
   "file_extension": ".py",
   "mimetype": "text/x-python",
   "name": "python",
   "nbconvert_exporter": "python",
   "pygments_lexer": "ipython3",
   "version": "3.11.4"
  }
 },
 "nbformat": 4,
 "nbformat_minor": 2
}
